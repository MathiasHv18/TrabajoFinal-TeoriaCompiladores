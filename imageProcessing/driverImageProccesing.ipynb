{
  "nbformat": 4,
  "nbformat_minor": 0,
  "metadata": {
    "colab": {
      "provenance": []
    },
    "kernelspec": {
      "name": "python3",
      "display_name": "Python 3"
    },
    "language_info": {
      "name": "python"
    }
  },
  "cells": [
    {
      "cell_type": "code",
      "execution_count": 97,
      "metadata": {
        "id": "sBvlBAlpzzhn"
      },
      "outputs": [],
      "source": [
        "!python -m pip install -q -U antlr4-python3-runtime"
      ]
    },
    {
      "cell_type": "code",
      "source": [
        "!curl -O https://www.antlr.org/download/antlr-4.13.2-complete.jar &> /dev/null"
      ],
      "metadata": {
        "id": "D2DgyJUc0nl4"
      },
      "execution_count": 98,
      "outputs": []
    },
    {
      "cell_type": "code",
      "source": [
        "!javac -version"
      ],
      "metadata": {
        "colab": {
          "base_uri": "https://localhost:8080/"
        },
        "id": "1vEX9JBa0jAX",
        "outputId": "0f1a3050-55d2-4681-91ab-6116b143f66b"
      },
      "execution_count": 99,
      "outputs": [
        {
          "output_type": "stream",
          "name": "stdout",
          "text": [
            "javac 11.0.24\n"
          ]
        }
      ]
    },
    {
      "cell_type": "code",
      "source": [
        "%%file ImageProcessing.g4\n",
        "grammar ImageProcessing;\n",
        "\n",
        "program : statement+ ;\n",
        "\n",
        "statement\n",
        "\t: loadImage\n",
        "\t| saveImage\n",
        "\t| applyFilter\n",
        "\t| transform\n",
        "\t;\n",
        "\n",
        "// Cargar imagen\n",
        "loadImage : 'load' STRING 'as' ID ';' ;\n",
        "\n",
        "// Guardar imagen\n",
        "saveImage : 'save' ID 'to' STRING ';' ;\n",
        "\n",
        "// Aplicar filtros\n",
        "applyFilter : ID '.' 'filter' '(' filterType ')' ';' ;\n",
        "\n",
        "\n",
        "filterType\n",
        "\t: 'blur'\n",
        "\t| 'sharpen'\n",
        "\t| 'grayscale'\n",
        "\t| 'edgeDetection'\n",
        "\t;\n",
        "\n",
        "// Transformaciones\n",
        "transform : ID '.' transformation '(' transformationValue ')' ';' ;\n",
        "\n",
        "transformation\n",
        "\t: 'rotate'\n",
        "\t| 'resize'\n",
        "\t| 'crop'\n",
        "\t;\n",
        "\n",
        "transformationValue\n",
        "\t: NUMBER // Para valores de rotación, tamaño, etc.\n",
        "\t;\n",
        "\n",
        "// Tokens\n",
        "STRING : '\"' .*? '\"' ; // Para nombres de archivo\n",
        "ID : [a-zA-Z]+ ; // Identificadores\n",
        "NUMBER : [0-9]+('.'[0-9]+)?;\n",
        "WS : [ \\t\\r\\n]+ -> skip ; // Ignorar espacios en blanco"
      ],
      "metadata": {
        "id": "-eY0oEIu2Wie",
        "colab": {
          "base_uri": "https://localhost:8080/"
        },
        "outputId": "246604e3-f07e-4b6e-f587-9a460a983f34"
      },
      "execution_count": 100,
      "outputs": [
        {
          "output_type": "stream",
          "name": "stdout",
          "text": [
            "Overwriting ImageProcessing.g4\n"
          ]
        }
      ]
    },
    {
      "cell_type": "code",
      "source": [
        "!java -cp antlr-4.13.2-complete.jar:. org.antlr.v4.Tool -Dlanguage=Python3 ImageProcessing.g4"
      ],
      "metadata": {
        "id": "vw0YZSqWEryI"
      },
      "execution_count": 101,
      "outputs": []
    },
    {
      "cell_type": "code",
      "source": [
        "%%file ejemplo.ImageProcessing\n",
        "load \"cocodrile.jpg\" as img;\n",
        "img.filter(grayscale);\n",
        "save img to \"finalImage.jpg\";"
      ],
      "metadata": {
        "colab": {
          "base_uri": "https://localhost:8080/"
        },
        "id": "1Hb6FL6AEwKf",
        "outputId": "bb339297-de8d-4fa0-f031-bc36c01ffb77"
      },
      "execution_count": 102,
      "outputs": [
        {
          "output_type": "stream",
          "name": "stdout",
          "text": [
            "Overwriting ejemplo.ImageProcessing\n"
          ]
        }
      ]
    },
    {
      "cell_type": "code",
      "source": [
        "from ImageProcessingLexer import ImageProcessingLexer\n",
        "from ImageProcessingParser import ImageProcessingParser\n",
        "from ImageProcessingListener import ImageProcessingListener\n",
        "\n",
        "from antlr4.CommonTokenStream import CommonTokenStream\n",
        "from antlr4 import FileStream"
      ],
      "metadata": {
        "id": "IlDLB2a8E_HE"
      },
      "execution_count": 103,
      "outputs": []
    },
    {
      "cell_type": "code",
      "source": [
        "inputFile = FileStream(\"ejemplo.ImageProcessing\")\n",
        "lexer = ImageProcessingLexer(inputFile)\n",
        "tokens = CommonTokenStream(lexer)\n",
        "parser = ImageProcessingParser(tokens)\n",
        "tree = parser.program()\n",
        "print(tree.toStringTree(recog=parser))"
      ],
      "metadata": {
        "colab": {
          "base_uri": "https://localhost:8080/"
        },
        "id": "5b_B0RgmFadr",
        "outputId": "204a8d1f-6050-4f1f-f92b-dcd48426b64a"
      },
      "execution_count": 104,
      "outputs": [
        {
          "output_type": "stream",
          "name": "stdout",
          "text": [
            "(program (statement (loadImage load \"cocodrile.jpg\" as img ;)) (statement (applyFilter img . filter ( (filterType grayscale) ) ;)) (statement (saveImage save img to \"finalImage.jpg\" ;)))\n"
          ]
        }
      ]
    },
    {
      "cell_type": "code",
      "source": [
        "import cv2\n",
        "\n",
        "images = {}\n",
        "\n",
        "class ImageProcessingDriver(ImageProcessingListener):\n",
        "\n",
        "    def enterLoadImage(self, ctx):\n",
        "        file_path = ctx.STRING().getText().strip('\"')\n",
        "        image_name = ctx.ID().getText()\n",
        "        image = cv2.imread(file_path)\n",
        "        if image is not None:\n",
        "            images[image_name] = image\n",
        "            print(f\"Imagen '{file_path}' cargada como '{image_name}'.\")\n",
        "        else:\n",
        "            print(f\"Error: no se pudo cargar la imagen '{file_path}'.\")\n",
        "\n",
        "    def enterSaveImage(self, ctx):\n",
        "        image_name = ctx.ID().getText()\n",
        "        file_path = ctx.STRING().getText().strip('\"')\n",
        "        if image_name in images:\n",
        "            cv2.imwrite(file_path, images[image_name])\n",
        "            print(f\"Imagen '{image_name}' guardada en '{file_path}'.\")\n",
        "        else:\n",
        "            print(f\"Error: la imagen '{image_name}' no existe.\")\n",
        "\n",
        "    def enterApplyFilter(self, ctx):\n",
        "        image_name = ctx.ID().getText()\n",
        "        filter_type = ctx.filterType().getText()\n",
        "        if image_name in images:\n",
        "            if filter_type == 'blur':\n",
        "                images[image_name] = cv2.GaussianBlur(images[image_name], (5, 5), 0)\n",
        "                print(f\"Filtro 'blur' aplicado a la imagen '{image_name}'.\")\n",
        "            elif filter_type == 'grayscale':\n",
        "                images[image_name] = cv2.cvtColor(images[image_name], cv2.COLOR_BGR2GRAY)\n",
        "                print(f\"Filtro 'grayscale' aplicado a la imagen '{image_name}'.\")\n",
        "            elif filter_type == 'edgeDetection':\n",
        "                images[image_name] = cv2.Canny(images[image_name], 100, 200)\n",
        "                print(f\"Filtro 'edgeDetection' aplicado a la imagen '{image_name}'.\")\n",
        "        else:\n",
        "            print(f\"Error: la imagen '{image_name}' no existe.\")\n",
        "\n",
        "    def enterTransform(self, ctx):\n",
        "        image_name = ctx.ID().getText()\n",
        "        transformation = ctx.transformation().getText()\n",
        "        value = int(ctx.transformationValue().getText())\n",
        "        if image_name in images:\n",
        "            if transformation == 'rotate':\n",
        "                (h, w) = images[image_name].shape[:2]\n",
        "                center = (w // 2, h // 2)\n",
        "                M = cv2.getRotationMatrix2D(center, value, 1.0)\n",
        "                images[image_name] = cv2.warpAffine(images[image_name], M, (w, h))\n",
        "                print(f\"Imagen '{image_name}' rotada {value} grados.\")\n",
        "            elif transformation == 'resize':\n",
        "                images[image_name] = cv2.resize(images[image_name], (value, value))\n",
        "                print(f\"Imagen '{image_name}' redimensionada a {value}x{value} píxeles.\")\n",
        "        else:\n",
        "            print(f\"Error: la imagen '{image_name}' no existe.\")"
      ],
      "metadata": {
        "id": "Jx1DyFX4FoUf"
      },
      "execution_count": 105,
      "outputs": []
    },
    {
      "cell_type": "code",
      "source": [
        "from antlr4 import ParseTreeWalker\n",
        "\n",
        "input = FileStream(\"ejemplo.ImageProcessing\")\n",
        "lexer = ImageProcessingLexer(input)\n",
        "tokens = CommonTokenStream(lexer)\n",
        "parser = ImageProcessingParser(tokens)\n",
        "tree = parser.program()\n",
        "walker = ParseTreeWalker()\n",
        "walker.walk(ImageProcessingDriver(), tree)"
      ],
      "metadata": {
        "id": "1vI1DBKQF0E1",
        "outputId": "e4cd9b26-61f9-4c3a-d482-7b12c6247323",
        "colab": {
          "base_uri": "https://localhost:8080/"
        }
      },
      "execution_count": 106,
      "outputs": [
        {
          "output_type": "stream",
          "name": "stdout",
          "text": [
            "Error: no se pudo cargar la imagen 'cocodrile.jpg'.\n",
            "Error: la imagen 'img' no existe.\n",
            "Error: la imagen 'img' no existe.\n"
          ]
        }
      ]
    }
  ]
}